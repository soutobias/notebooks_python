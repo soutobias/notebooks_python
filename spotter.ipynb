{
 "cells": [
  {
   "cell_type": "code",
   "execution_count": 1,
   "id": "bigger-constitution",
   "metadata": {},
   "outputs": [],
   "source": [
    "%load_ext autoreload\n",
    "%autoreload 2\n",
    "import warnings\n",
    "warnings.filterwarnings('ignore')\n",
    "import os\n",
    "import pandas as pd\n",
    "import matplotlib.pyplot as plt\n",
    "import numpy as np\n",
    "import requests\n",
    "import seaborn as sns\n",
    "from scipy.stats import norm\n",
    "from numpy import cos, sin, arcsin, sqrt\n",
    "from math import radians\n",
    "from datetime import datetime, timedelta\n",
    "from PIL import Image\n",
    "import selenium\n",
    "import io"
   ]
  },
  {
   "cell_type": "code",
   "execution_count": 2,
   "id": "tough-punch",
   "metadata": {},
   "outputs": [],
   "source": [
    "import numpy as np\n",
    "from netCDF4 import Dataset\n",
    "import pandas as pd\n",
    "import matplotlib.pyplot as plt\n",
    "from scipy.interpolate import griddata\n",
    "import cartopy.crs as ccrs\n",
    "import cartopy\n",
    "import matplotlib.pyplot as plt\n",
    "from ipywidgets import interact, interactive, fixed, interact_manual\n",
    "import ipywidgets as widgets\n",
    "from numpy import cos, sin, arcsin, sqrt\n",
    "from math import radians\n",
    "import cartopy.io.img_tiles as cimgt\n",
    "import folium"
   ]
  },
  {
   "cell_type": "code",
   "execution_count": 139,
   "id": "academic-judges",
   "metadata": {},
   "outputs": [],
   "source": [
    "aja = 'data_spotter/aja.geojson'\n",
    "ajb = 'data_spotter/ajb.geojson'\n",
    "filename = 'data_spotter/pontos.csv'\n",
    "rtd_filename = 'data_spotter/rtd.csv'\n",
    "\n",
    "icon_url = \"https://toppng.com/uploads/preview/lifebuoy-11530996451jlzqgbdrcd.png\""
   ]
  },
  {
   "cell_type": "code",
   "execution_count": 140,
   "id": "turkish-phrase",
   "metadata": {},
   "outputs": [],
   "source": [
    "df = pd.read_csv(filename, delimiter=',')\n",
    "rtd_df = pd.read_csv(rtd_filename, delimiter=',')"
   ]
  },
  {
   "cell_type": "code",
   "execution_count": 141,
   "id": "turned-collapse",
   "metadata": {},
   "outputs": [],
   "source": [
    "coordinates = []\n",
    "for index, row in df.iterrows():\n",
    "    coordinate = (row['LAT'], row['LON'])\n",
    "    coordinates.append(coordinate)\n",
    "df['coordinates'] = coordinates\n",
    "\n"
   ]
  },
  {
   "cell_type": "code",
   "execution_count": 142,
   "id": "clean-attendance",
   "metadata": {},
   "outputs": [],
   "source": [
    "coordinates = []\n",
    "for index, row in rtd_df.iterrows():\n",
    "    coordinate = (row['LAT'], row['LON'])\n",
    "    coordinates.append(coordinate)\n",
    "rtd_df['coordinates'] = coordinates\n"
   ]
  },
  {
   "cell_type": "code",
   "execution_count": 143,
   "id": "fuzzy-jacob",
   "metadata": {},
   "outputs": [],
   "source": [
    "lat_s = int(np.trunc(rtd_df['LAT'].min()))\n",
    "lat_n = int(np.ceil(rtd_df['LAT'].max()))\n",
    "lon_w = int(np.trunc(rtd_df['LON'].min()))\n",
    "lon_e = int(np.ceil(rtd_df['LON'].max()))\n",
    "title_fig = 'Estações Costa Leste'\n",
    "name_file = 'costa_leste'"
   ]
  },
  {
   "cell_type": "code",
   "execution_count": 167,
   "id": "imported-spyware",
   "metadata": {},
   "outputs": [],
   "source": [
    "m = folium.Map(location=[(lat_s+lat_n)/2, (lon_w+lon_e)/2], zoom_start=3)\n",
    "\n",
    "popup1 = \"Vessel Route\"\n",
    "folium.PolyLine(rtd_df['coordinates'], tooltip=popup1).add_to(m)\n",
    "\n",
    "\n",
    "# icons = folium.features.CustomIcon(icon_url,\n",
    "#                                   icon_size=(14, 14))\n",
    "\n",
    "\n",
    "for index, row in df.iterrows():\n",
    "    popup = f\"Spotter #{row['ID']}\"\n",
    "    folium.Marker(row['coordinates'], tooltip=popup, icon=folium.Icon(color=\"red\",icon=\"fa-life-ring\", prefix='fa')).add_to(m)\n",
    "    \n",
    "tile = folium.TileLayer(\n",
    "        tiles = 'https://server.arcgisonline.com/ArcGIS/rest/services/World_Imagery/MapServer/tile/{z}/{y}/{x}',\n",
    "        attr = 'Esri',\n",
    "        name = 'Esri Satellite',\n",
    "        overlay = False,\n",
    "        control = True\n",
    "       ).add_to(m)\n",
    "\n",
    "style1 = {'fillColor': '#228B22', 'color': '#228B22'}\n",
    "geojson1 = folium.GeoJson(ajb, name=\"geojson\", style_function=lambda x:style1)\n",
    "popup2 = folium.Popup('Brazilian Waters')\n",
    "popup2.add_to(geojson1)\n",
    "geojson1.add_to(m)\n",
    "\n",
    "style2 = {'fillColor': '#228B22', 'color': '#FFFF00'}\n",
    "geojson2 = folium.GeoJson(aja, name=\"geojson\", style_function=lambda x:style2)\n",
    "popup3 = folium.Popup('Argentine Waters')\n",
    "popup3.add_to(geojson2)\n",
    "geojson2.add_to(m)\n",
    "\n",
    "folium.Circle([-37.2226,  -51.7676], popup='Wave formation area', fill_color='#000', radius=400000, weight=2, color=\"#000\").add_to(m)\n",
    "folium.Circle([-44.2767,  -58.6230], popup='Wave formation area', fill_color='#000', radius=400000, weight=2, color=\"#000\").add_to(m)\n",
    "\n",
    "\n",
    "m.add_child(folium.LatLngPopup())\n",
    "\n",
    "m\n",
    "\n",
    "m.save(outfile= \"spotter_deployment.html\")\n"
   ]
  },
  {
   "cell_type": "code",
   "execution_count": 145,
   "id": "reported-patent",
   "metadata": {},
   "outputs": [
    {
     "ename": "NameError",
     "evalue": "name 'arthur_filename' is not defined",
     "output_type": "error",
     "traceback": [
      "\u001b[0;31m---------------------------------------------------------------------------\u001b[0m",
      "\u001b[0;31mNameError\u001b[0m                                 Traceback (most recent call last)",
      "\u001b[0;32m<ipython-input-145-384195c51fb6>\u001b[0m in \u001b[0;36m<module>\u001b[0;34m\u001b[0m\n\u001b[0;32m----> 1\u001b[0;31m \u001b[0marthur_df\u001b[0m \u001b[0;34m=\u001b[0m \u001b[0mpd\u001b[0m\u001b[0;34m.\u001b[0m\u001b[0mread_csv\u001b[0m\u001b[0;34m(\u001b[0m\u001b[0marthur_filename\u001b[0m\u001b[0;34m,\u001b[0m \u001b[0mdelimiter\u001b[0m\u001b[0;34m=\u001b[0m\u001b[0;34m'\\t'\u001b[0m\u001b[0;34m)\u001b[0m\u001b[0;34m\u001b[0m\u001b[0;34m\u001b[0m\u001b[0m\n\u001b[0m\u001b[1;32m      2\u001b[0m \u001b[0mrtd_arthur_df\u001b[0m \u001b[0;34m=\u001b[0m \u001b[0mpd\u001b[0m\u001b[0;34m.\u001b[0m\u001b[0mread_csv\u001b[0m\u001b[0;34m(\u001b[0m\u001b[0mrtd_arthur_filename\u001b[0m\u001b[0;34m,\u001b[0m \u001b[0mdelimiter\u001b[0m\u001b[0;34m=\u001b[0m\u001b[0;34m'\\t'\u001b[0m\u001b[0;34m)\u001b[0m\u001b[0;34m\u001b[0m\u001b[0;34m\u001b[0m\u001b[0m\n\u001b[1;32m      3\u001b[0m \u001b[0;34m\u001b[0m\u001b[0m\n\u001b[1;32m      4\u001b[0m \u001b[0mcoordinates\u001b[0m \u001b[0;34m=\u001b[0m \u001b[0;34m[\u001b[0m\u001b[0;34m]\u001b[0m\u001b[0;34m\u001b[0m\u001b[0;34m\u001b[0m\u001b[0m\n\u001b[1;32m      5\u001b[0m \u001b[0;32mfor\u001b[0m \u001b[0mindex\u001b[0m\u001b[0;34m,\u001b[0m \u001b[0mrow\u001b[0m \u001b[0;32min\u001b[0m \u001b[0marthur_df\u001b[0m\u001b[0;34m.\u001b[0m\u001b[0miterrows\u001b[0m\u001b[0;34m(\u001b[0m\u001b[0;34m)\u001b[0m\u001b[0;34m:\u001b[0m\u001b[0;34m\u001b[0m\u001b[0;34m\u001b[0m\u001b[0m\n",
      "\u001b[0;31mNameError\u001b[0m: name 'arthur_filename' is not defined"
     ]
    }
   ],
   "source": [
    "arthur_df = pd.read_csv(arthur_filename, delimiter='\\t')\n",
    "rtd_arthur_df = pd.read_csv(rtd_arthur_filename, delimiter='\\t')\n",
    "\n",
    "coordinates = []\n",
    "for index, row in arthur_df.iterrows():\n",
    "    coordinate = (row['LAT'], row['LON'])\n",
    "    coordinates.append(coordinate)\n",
    "arthur_df['coordinates'] = coordinates\n",
    "coordinates = []\n",
    "for index, row in rtd_arthur_df.iterrows():\n",
    "    coordinate = (row['LAT'], row['LON'])\n",
    "    coordinates.append(coordinate)\n",
    "rtd_arthur_df['coordinates'] = coordinates\n",
    "\n",
    "m = folium.Map(location=[(lat_s+lat_n-2)/2, (lon_w+lon_e)/2], zoom_start=5.5)\n",
    "\n",
    "folium.PolyLine(rtd_arthur_df['coordinates']).add_to(m)\n",
    "for index, row in arthur_df.iterrows():\n",
    "    popup = str(row['ID'])\n",
    "    folium.Marker(row['coordinates'], tooltip=popup).add_to(m)\n",
    "#     folium.CircleMarker(location=row['coordinates'],\n",
    "#                         radius=5,\n",
    "#                         fill=True,\n",
    "#                         fill_color='red',\n",
    "#                         color = 'grey',\n",
    "#                         fill_opacity=0.7,\n",
    "#                         weight=0).add_to(m)\n",
    "    \n",
    "tile = folium.TileLayer(\n",
    "        tiles = 'https://server.arcgisonline.com/ArcGIS/rest/services/World_Imagery/MapServer/tile/{z}/{y}/{x}',\n",
    "        attr = 'Esri',\n",
    "        name = 'Esri Satellite',\n",
    "        overlay = False,\n",
    "        control = True\n",
    "       ).add_to(m)\n",
    "\n",
    "popup1 = folium.LatLngPopup()\n",
    "\n",
    "m.add_child(popup1)\n",
    "m\n",
    "m.save(outfile= \"costa_leste.html\")\n"
   ]
  },
  {
   "cell_type": "code",
   "execution_count": 285,
   "id": "historical-address",
   "metadata": {},
   "outputs": [
    {
     "name": "stdout",
     "output_type": "stream",
     "text": [
      "lat sul: -21.672314672\n",
      "lat norte: -13.0292565556\n",
      "lon oeste: -40.1631372096\n",
      "lon leste: -37.2548841154\n"
     ]
    }
   ],
   "source": [
    "print(f\"lat sul: {arthur_df['LAT'].min()}\")\n",
    "print(f\"lat norte: {arthur_df['LAT'].max()}\")\n",
    "print(f\"lon oeste: {arthur_df['LON'].min()}\")\n",
    "print(f\"lon leste: {arthur_df['LON'].max()}\")"
   ]
  },
  {
   "cell_type": "code",
   "execution_count": 54,
   "id": "antique-ultimate",
   "metadata": {},
   "outputs": [],
   "source": [
    "import shapefile\n",
    "from json import dumps\n",
    "\n",
    "# read the shapefile\n",
    "reader = shapefile.Reader(\"data_spotter/200Milhas/Linhas200milhas.shp\")\n",
    "fields = reader.fields[1:]\n",
    "field_names = [field[0] for field in fields]\n",
    "buffer = []\n",
    "for sr in reader.shapeRecords():\n",
    "    atr = dict(zip(field_names, sr.record))\n",
    "    geom = sr.shape.__geo_interface__\n",
    "    buffer.append(dict(type=\"Feature\", \\\n",
    "    geometry=geom, properties=atr)) \n",
    "   \n",
    "    # write the GeoJSON file\n",
    "   \n",
    "geojson = open(\"data_spotter/ajb.json\", \"w\")\n",
    "geojson.write(dumps({\"type\": \"FeatureCollection\", \"features\": buffer}, indent=2) + \"\\n\")\n",
    "geojson.close()"
   ]
  },
  {
   "cell_type": "code",
   "execution_count": 113,
   "id": "closed-sheriff",
   "metadata": {},
   "outputs": [],
   "source": []
  },
  {
   "cell_type": "code",
   "execution_count": null,
   "id": "conventional-married",
   "metadata": {},
   "outputs": [],
   "source": []
  },
  {
   "cell_type": "code",
   "execution_count": null,
   "id": "useful-montgomery",
   "metadata": {},
   "outputs": [],
   "source": [
    "f = open(ajb,)\n",
    "x = json.load(f)\n",
    "\n",
    "df1 = pd.DataFrame(np.array(x['features'][0]['geometry']['coordinates']))\n",
    "df2 = pd.DataFrame(np.array(x['features'][1]['geometry']['coordinates']))\n",
    "\n",
    "df1.columns = ['LON', 'LAT']\n",
    "df2.columns = ['LON', 'LAT']\n",
    "\n",
    "coordinates = []\n",
    "for index, row in df1.iterrows():\n",
    "    coordinate = (row['LAT']/100000, row['LON']/100000)\n",
    "    coordinates.append(coordinate)\n",
    "df1['coordinates'] = coordinates\n",
    "coordinates = []\n",
    "for index, row in df2.iterrows():\n",
    "    coordinate = (row['LAT']/100000, row['LON']/100000)\n",
    "    coordinates.append(coordinate)\n",
    "df2['coordinates'] = coordinates"
   ]
  }
 ],
 "metadata": {
  "kernelspec": {
   "display_name": "Python 3",
   "language": "python",
   "name": "python3"
  },
  "language_info": {
   "codemirror_mode": {
    "name": "ipython",
    "version": 3
   },
   "file_extension": ".py",
   "mimetype": "text/x-python",
   "name": "python",
   "nbconvert_exporter": "python",
   "pygments_lexer": "ipython3",
   "version": "3.8.6"
  },
  "toc": {
   "base_numbering": 1,
   "nav_menu": {},
   "number_sections": true,
   "sideBar": true,
   "skip_h1_title": false,
   "title_cell": "Table of Contents",
   "title_sidebar": "Contents",
   "toc_cell": false,
   "toc_position": {},
   "toc_section_display": true,
   "toc_window_display": false
  }
 },
 "nbformat": 4,
 "nbformat_minor": 5
}
